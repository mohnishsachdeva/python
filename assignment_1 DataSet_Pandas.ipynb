{
 "cells": [
  {
   "cell_type": "code",
   "execution_count": 1,
   "metadata": {},
   "outputs": [],
   "source": [
    "import pandas as pd"
   ]
  },
  {
   "cell_type": "code",
   "execution_count": 2,
   "metadata": {},
   "outputs": [],
   "source": [
    "df = pd.read_excel(\"./datasets/59260.xlsx\")"
   ]
  },
  {
   "cell_type": "code",
   "execution_count": 3,
   "metadata": {},
   "outputs": [
    {
     "data": {
      "text/html": [
       "<div>\n",
       "<style scoped>\n",
       "    .dataframe tbody tr th:only-of-type {\n",
       "        vertical-align: middle;\n",
       "    }\n",
       "\n",
       "    .dataframe tbody tr th {\n",
       "        vertical-align: top;\n",
       "    }\n",
       "\n",
       "    .dataframe thead th {\n",
       "        text-align: right;\n",
       "    }\n",
       "</style>\n",
       "<table border=\"1\" class=\"dataframe\">\n",
       "  <thead>\n",
       "    <tr style=\"text-align: right;\">\n",
       "      <th></th>\n",
       "      <th>Unnamed: 0</th>\n",
       "      <th>Unnamed: 1</th>\n",
       "      <th>Unnamed: 2</th>\n",
       "      <th>Unnamed: 3</th>\n",
       "      <th>Unnamed: 4</th>\n",
       "      <th>Unnamed: 5</th>\n",
       "      <th>Unnamed: 6</th>\n",
       "      <th>Unnamed: 7</th>\n",
       "      <th>Unnamed: 8</th>\n",
       "      <th>Unnamed: 9</th>\n",
       "      <th>Unnamed: 10</th>\n",
       "      <th>Unnamed: 11</th>\n",
       "    </tr>\n",
       "  </thead>\n",
       "  <tbody>\n",
       "    <tr>\n",
       "      <td>0</td>\n",
       "      <td>NaN</td>\n",
       "      <td>List of NBFCs holding CoR for accepting Public...</td>\n",
       "      <td>NaN</td>\n",
       "      <td>NaN</td>\n",
       "      <td>NaN</td>\n",
       "      <td>NaN</td>\n",
       "      <td>NaN</td>\n",
       "      <td>NaN</td>\n",
       "      <td>NaN</td>\n",
       "      <td>NaN</td>\n",
       "      <td>NaN</td>\n",
       "      <td>NaN</td>\n",
       "    </tr>\n",
       "    <tr>\n",
       "      <td>1</td>\n",
       "      <td>NaN</td>\n",
       "      <td>S No</td>\n",
       "      <td>Name of the company</td>\n",
       "      <td>Regional Office</td>\n",
       "      <td>Address 1</td>\n",
       "      <td>Address 2</td>\n",
       "      <td>Address 3</td>\n",
       "      <td>City</td>\n",
       "      <td>State</td>\n",
       "      <td>Pincode</td>\n",
       "      <td>Email</td>\n",
       "      <td>Fax</td>\n",
       "    </tr>\n",
       "    <tr>\n",
       "      <td>2</td>\n",
       "      <td>NaN</td>\n",
       "      <td>1</td>\n",
       "      <td>ARMAN FINANCIAL SERVICES LIMITED</td>\n",
       "      <td>Ahmedabad</td>\n",
       "      <td>501-504,Sakar III</td>\n",
       "      <td>Opp . Old High  Court</td>\n",
       "      <td>Off. Ashram  Road</td>\n",
       "      <td>Ahmedabad</td>\n",
       "      <td>Gujarat</td>\n",
       "      <td>380014</td>\n",
       "      <td>finance@armanindia.com    website:www.armanind...</td>\n",
       "      <td>079  -27543666</td>\n",
       "    </tr>\n",
       "    <tr>\n",
       "      <td>3</td>\n",
       "      <td>NaN</td>\n",
       "      <td>2</td>\n",
       "      <td>Chinmay Finlease Ltd</td>\n",
       "      <td>Ahmedabad</td>\n",
       "      <td>Azad Chowk</td>\n",
       "      <td>NaN</td>\n",
       "      <td>Dist: Banaskantha(Ng)</td>\n",
       "      <td>Bhabhar</td>\n",
       "      <td>Gujarat</td>\n",
       "      <td>385320</td>\n",
       "      <td>Yogesh.majithia@gmail.com</td>\n",
       "      <td>02735-222481</td>\n",
       "    </tr>\n",
       "    <tr>\n",
       "      <td>4</td>\n",
       "      <td>NaN</td>\n",
       "      <td>3</td>\n",
       "      <td>Ishan Finlease Limited</td>\n",
       "      <td>Ahmedabad</td>\n",
       "      <td>608-609, Pratiksha Complex</td>\n",
       "      <td>Mahalaxmi Panch Rasta,</td>\n",
       "      <td>Near Paldi Cross Road, Paldi</td>\n",
       "      <td>Ahmedabad</td>\n",
       "      <td>Gujarat</td>\n",
       "      <td>380007</td>\n",
       "      <td>contactifpl@gmail.com</td>\n",
       "      <td>NaN</td>\n",
       "    </tr>\n",
       "  </tbody>\n",
       "</table>\n",
       "</div>"
      ],
      "text/plain": [
       "   Unnamed: 0                                         Unnamed: 1  \\\n",
       "0         NaN  List of NBFCs holding CoR for accepting Public...   \n",
       "1         NaN                                               S No   \n",
       "2         NaN                                                  1   \n",
       "3         NaN                                                  2   \n",
       "4         NaN                                                  3   \n",
       "\n",
       "                         Unnamed: 2       Unnamed: 3  \\\n",
       "0                               NaN              NaN   \n",
       "1               Name of the company  Regional Office   \n",
       "2  ARMAN FINANCIAL SERVICES LIMITED        Ahmedabad   \n",
       "3              Chinmay Finlease Ltd        Ahmedabad   \n",
       "4            Ishan Finlease Limited        Ahmedabad   \n",
       "\n",
       "                   Unnamed: 4              Unnamed: 5  \\\n",
       "0                         NaN                     NaN   \n",
       "1                   Address 1               Address 2   \n",
       "2           501-504,Sakar III   Opp . Old High  Court   \n",
       "3                  Azad Chowk                     NaN   \n",
       "4  608-609, Pratiksha Complex  Mahalaxmi Panch Rasta,   \n",
       "\n",
       "                     Unnamed: 6 Unnamed: 7 Unnamed: 8 Unnamed: 9  \\\n",
       "0                           NaN        NaN        NaN        NaN   \n",
       "1                     Address 3       City      State    Pincode   \n",
       "2             Off. Ashram  Road  Ahmedabad    Gujarat     380014   \n",
       "3         Dist: Banaskantha(Ng)    Bhabhar    Gujarat     385320   \n",
       "4  Near Paldi Cross Road, Paldi  Ahmedabad    Gujarat     380007   \n",
       "\n",
       "                                         Unnamed: 10     Unnamed: 11  \n",
       "0                                                NaN             NaN  \n",
       "1                                              Email             Fax  \n",
       "2  finance@armanindia.com    website:www.armanind...  079  -27543666  \n",
       "3                          Yogesh.majithia@gmail.com    02735-222481  \n",
       "4                              contactifpl@gmail.com             NaN  "
      ]
     },
     "execution_count": 3,
     "metadata": {},
     "output_type": "execute_result"
    }
   ],
   "source": [
    "df.head() #for getting 5 lines from top"
   ]
  },
  {
   "cell_type": "code",
   "execution_count": 4,
   "metadata": {},
   "outputs": [],
   "source": [
    "new_dataset = df.iloc[1:,1:] # for slicing to get the dataframe from 1st row and 1st column"
   ]
  },
  {
   "cell_type": "code",
   "execution_count": 5,
   "metadata": {},
   "outputs": [
    {
     "data": {
      "text/html": [
       "<div>\n",
       "<style scoped>\n",
       "    .dataframe tbody tr th:only-of-type {\n",
       "        vertical-align: middle;\n",
       "    }\n",
       "\n",
       "    .dataframe tbody tr th {\n",
       "        vertical-align: top;\n",
       "    }\n",
       "\n",
       "    .dataframe thead th {\n",
       "        text-align: right;\n",
       "    }\n",
       "</style>\n",
       "<table border=\"1\" class=\"dataframe\">\n",
       "  <thead>\n",
       "    <tr style=\"text-align: right;\">\n",
       "      <th></th>\n",
       "      <th>Unnamed: 1</th>\n",
       "      <th>Unnamed: 2</th>\n",
       "      <th>Unnamed: 3</th>\n",
       "      <th>Unnamed: 4</th>\n",
       "      <th>Unnamed: 5</th>\n",
       "      <th>Unnamed: 6</th>\n",
       "      <th>Unnamed: 7</th>\n",
       "      <th>Unnamed: 8</th>\n",
       "      <th>Unnamed: 9</th>\n",
       "      <th>Unnamed: 10</th>\n",
       "      <th>Unnamed: 11</th>\n",
       "    </tr>\n",
       "  </thead>\n",
       "  <tbody>\n",
       "    <tr>\n",
       "      <td>1</td>\n",
       "      <td>S No</td>\n",
       "      <td>Name of the company</td>\n",
       "      <td>Regional Office</td>\n",
       "      <td>Address 1</td>\n",
       "      <td>Address 2</td>\n",
       "      <td>Address 3</td>\n",
       "      <td>City</td>\n",
       "      <td>State</td>\n",
       "      <td>Pincode</td>\n",
       "      <td>Email</td>\n",
       "      <td>Fax</td>\n",
       "    </tr>\n",
       "    <tr>\n",
       "      <td>2</td>\n",
       "      <td>1</td>\n",
       "      <td>ARMAN FINANCIAL SERVICES LIMITED</td>\n",
       "      <td>Ahmedabad</td>\n",
       "      <td>501-504,Sakar III</td>\n",
       "      <td>Opp . Old High  Court</td>\n",
       "      <td>Off. Ashram  Road</td>\n",
       "      <td>Ahmedabad</td>\n",
       "      <td>Gujarat</td>\n",
       "      <td>380014</td>\n",
       "      <td>finance@armanindia.com    website:www.armanind...</td>\n",
       "      <td>079  -27543666</td>\n",
       "    </tr>\n",
       "    <tr>\n",
       "      <td>3</td>\n",
       "      <td>2</td>\n",
       "      <td>Chinmay Finlease Ltd</td>\n",
       "      <td>Ahmedabad</td>\n",
       "      <td>Azad Chowk</td>\n",
       "      <td>NaN</td>\n",
       "      <td>Dist: Banaskantha(Ng)</td>\n",
       "      <td>Bhabhar</td>\n",
       "      <td>Gujarat</td>\n",
       "      <td>385320</td>\n",
       "      <td>Yogesh.majithia@gmail.com</td>\n",
       "      <td>02735-222481</td>\n",
       "    </tr>\n",
       "    <tr>\n",
       "      <td>4</td>\n",
       "      <td>3</td>\n",
       "      <td>Ishan Finlease Limited</td>\n",
       "      <td>Ahmedabad</td>\n",
       "      <td>608-609, Pratiksha Complex</td>\n",
       "      <td>Mahalaxmi Panch Rasta,</td>\n",
       "      <td>Near Paldi Cross Road, Paldi</td>\n",
       "      <td>Ahmedabad</td>\n",
       "      <td>Gujarat</td>\n",
       "      <td>380007</td>\n",
       "      <td>contactifpl@gmail.com</td>\n",
       "      <td>NaN</td>\n",
       "    </tr>\n",
       "    <tr>\n",
       "      <td>5</td>\n",
       "      <td>4</td>\n",
       "      <td>JAYLAKSHMI CREDIT COMPANY LIMITED</td>\n",
       "      <td>Ahmedabad</td>\n",
       "      <td>3/209, Ghanchi Sheri</td>\n",
       "      <td>Navapura</td>\n",
       "      <td>NaN</td>\n",
       "      <td>Surat</td>\n",
       "      <td>Gujarat</td>\n",
       "      <td>395003</td>\n",
       "      <td>smn_kadoli@yahoo.com</td>\n",
       "      <td>0261-2431085</td>\n",
       "    </tr>\n",
       "  </tbody>\n",
       "</table>\n",
       "</div>"
      ],
      "text/plain": [
       "  Unnamed: 1                         Unnamed: 2       Unnamed: 3  \\\n",
       "1       S No                Name of the company  Regional Office   \n",
       "2          1   ARMAN FINANCIAL SERVICES LIMITED        Ahmedabad   \n",
       "3          2               Chinmay Finlease Ltd        Ahmedabad   \n",
       "4          3             Ishan Finlease Limited        Ahmedabad   \n",
       "5          4  JAYLAKSHMI CREDIT COMPANY LIMITED        Ahmedabad   \n",
       "\n",
       "                   Unnamed: 4              Unnamed: 5  \\\n",
       "1                   Address 1               Address 2   \n",
       "2           501-504,Sakar III   Opp . Old High  Court   \n",
       "3                  Azad Chowk                     NaN   \n",
       "4  608-609, Pratiksha Complex  Mahalaxmi Panch Rasta,   \n",
       "5        3/209, Ghanchi Sheri                Navapura   \n",
       "\n",
       "                     Unnamed: 6 Unnamed: 7 Unnamed: 8 Unnamed: 9  \\\n",
       "1                     Address 3       City      State    Pincode   \n",
       "2             Off. Ashram  Road  Ahmedabad    Gujarat     380014   \n",
       "3         Dist: Banaskantha(Ng)    Bhabhar    Gujarat     385320   \n",
       "4  Near Paldi Cross Road, Paldi  Ahmedabad    Gujarat     380007   \n",
       "5                           NaN      Surat    Gujarat     395003   \n",
       "\n",
       "                                         Unnamed: 10     Unnamed: 11  \n",
       "1                                              Email             Fax  \n",
       "2  finance@armanindia.com    website:www.armanind...  079  -27543666  \n",
       "3                          Yogesh.majithia@gmail.com    02735-222481  \n",
       "4                              contactifpl@gmail.com             NaN  \n",
       "5                               smn_kadoli@yahoo.com    0261-2431085  "
      ]
     },
     "execution_count": 5,
     "metadata": {},
     "output_type": "execute_result"
    }
   ],
   "source": [
    "new_dataset.head()"
   ]
  },
  {
   "cell_type": "code",
   "execution_count": 6,
   "metadata": {},
   "outputs": [],
   "source": [
    "import numpy as np"
   ]
  },
  {
   "cell_type": "code",
   "execution_count": 7,
   "metadata": {},
   "outputs": [],
   "source": [
    "new_df_array = np.array(new_dataset) # for changing the data frame to numpy array for getting making the column heading "
   ]
  },
  {
   "cell_type": "code",
   "execution_count": 8,
   "metadata": {},
   "outputs": [],
   "source": [
    "list_of_headings=new_df_array[0].tolist() # list of headings getting from the numpy array 1st location which is a row."
   ]
  },
  {
   "cell_type": "markdown",
   "metadata": {},
   "source": [
    "converting the numpy array to new data frame by giving the proper dataframe with column names"
   ]
  },
  {
   "cell_type": "code",
   "execution_count": 9,
   "metadata": {},
   "outputs": [],
   "source": [
    "corrected_df = pd.DataFrame(data=new_df_array,columns=list_of_headings) "
   ]
  },
  {
   "cell_type": "code",
   "execution_count": 10,
   "metadata": {},
   "outputs": [
    {
     "data": {
      "text/html": [
       "<div>\n",
       "<style scoped>\n",
       "    .dataframe tbody tr th:only-of-type {\n",
       "        vertical-align: middle;\n",
       "    }\n",
       "\n",
       "    .dataframe tbody tr th {\n",
       "        vertical-align: top;\n",
       "    }\n",
       "\n",
       "    .dataframe thead th {\n",
       "        text-align: right;\n",
       "    }\n",
       "</style>\n",
       "<table border=\"1\" class=\"dataframe\">\n",
       "  <thead>\n",
       "    <tr style=\"text-align: right;\">\n",
       "      <th></th>\n",
       "      <th>S No</th>\n",
       "      <th>Name of the company</th>\n",
       "      <th>Regional Office</th>\n",
       "      <th>Address 1</th>\n",
       "      <th>Address 2</th>\n",
       "      <th>Address 3</th>\n",
       "      <th>City</th>\n",
       "      <th>State</th>\n",
       "      <th>Pincode</th>\n",
       "      <th>Email</th>\n",
       "      <th>Fax</th>\n",
       "    </tr>\n",
       "  </thead>\n",
       "  <tbody>\n",
       "    <tr>\n",
       "      <td>0</td>\n",
       "      <td>S No</td>\n",
       "      <td>Name of the company</td>\n",
       "      <td>Regional Office</td>\n",
       "      <td>Address 1</td>\n",
       "      <td>Address 2</td>\n",
       "      <td>Address 3</td>\n",
       "      <td>City</td>\n",
       "      <td>State</td>\n",
       "      <td>Pincode</td>\n",
       "      <td>Email</td>\n",
       "      <td>Fax</td>\n",
       "    </tr>\n",
       "    <tr>\n",
       "      <td>1</td>\n",
       "      <td>1</td>\n",
       "      <td>ARMAN FINANCIAL SERVICES LIMITED</td>\n",
       "      <td>Ahmedabad</td>\n",
       "      <td>501-504,Sakar III</td>\n",
       "      <td>Opp . Old High  Court</td>\n",
       "      <td>Off. Ashram  Road</td>\n",
       "      <td>Ahmedabad</td>\n",
       "      <td>Gujarat</td>\n",
       "      <td>380014</td>\n",
       "      <td>finance@armanindia.com    website:www.armanind...</td>\n",
       "      <td>079  -27543666</td>\n",
       "    </tr>\n",
       "    <tr>\n",
       "      <td>2</td>\n",
       "      <td>2</td>\n",
       "      <td>Chinmay Finlease Ltd</td>\n",
       "      <td>Ahmedabad</td>\n",
       "      <td>Azad Chowk</td>\n",
       "      <td>NaN</td>\n",
       "      <td>Dist: Banaskantha(Ng)</td>\n",
       "      <td>Bhabhar</td>\n",
       "      <td>Gujarat</td>\n",
       "      <td>385320</td>\n",
       "      <td>Yogesh.majithia@gmail.com</td>\n",
       "      <td>02735-222481</td>\n",
       "    </tr>\n",
       "    <tr>\n",
       "      <td>3</td>\n",
       "      <td>3</td>\n",
       "      <td>Ishan Finlease Limited</td>\n",
       "      <td>Ahmedabad</td>\n",
       "      <td>608-609, Pratiksha Complex</td>\n",
       "      <td>Mahalaxmi Panch Rasta,</td>\n",
       "      <td>Near Paldi Cross Road, Paldi</td>\n",
       "      <td>Ahmedabad</td>\n",
       "      <td>Gujarat</td>\n",
       "      <td>380007</td>\n",
       "      <td>contactifpl@gmail.com</td>\n",
       "      <td>NaN</td>\n",
       "    </tr>\n",
       "    <tr>\n",
       "      <td>4</td>\n",
       "      <td>4</td>\n",
       "      <td>JAYLAKSHMI CREDIT COMPANY LIMITED</td>\n",
       "      <td>Ahmedabad</td>\n",
       "      <td>3/209, Ghanchi Sheri</td>\n",
       "      <td>Navapura</td>\n",
       "      <td>NaN</td>\n",
       "      <td>Surat</td>\n",
       "      <td>Gujarat</td>\n",
       "      <td>395003</td>\n",
       "      <td>smn_kadoli@yahoo.com</td>\n",
       "      <td>0261-2431085</td>\n",
       "    </tr>\n",
       "  </tbody>\n",
       "</table>\n",
       "</div>"
      ],
      "text/plain": [
       "   S No                Name of the company  Regional Office  \\\n",
       "0  S No                Name of the company  Regional Office   \n",
       "1     1   ARMAN FINANCIAL SERVICES LIMITED        Ahmedabad   \n",
       "2     2               Chinmay Finlease Ltd        Ahmedabad   \n",
       "3     3             Ishan Finlease Limited        Ahmedabad   \n",
       "4     4  JAYLAKSHMI CREDIT COMPANY LIMITED        Ahmedabad   \n",
       "\n",
       "                    Address 1               Address 2  \\\n",
       "0                   Address 1               Address 2   \n",
       "1           501-504,Sakar III   Opp . Old High  Court   \n",
       "2                  Azad Chowk                     NaN   \n",
       "3  608-609, Pratiksha Complex  Mahalaxmi Panch Rasta,   \n",
       "4        3/209, Ghanchi Sheri                Navapura   \n",
       "\n",
       "                      Address 3       City    State  Pincode  \\\n",
       "0                     Address 3       City    State  Pincode   \n",
       "1             Off. Ashram  Road  Ahmedabad  Gujarat   380014   \n",
       "2         Dist: Banaskantha(Ng)    Bhabhar  Gujarat   385320   \n",
       "3  Near Paldi Cross Road, Paldi  Ahmedabad  Gujarat   380007   \n",
       "4                           NaN      Surat  Gujarat   395003   \n",
       "\n",
       "                                               Email             Fax  \n",
       "0                                              Email             Fax  \n",
       "1  finance@armanindia.com    website:www.armanind...  079  -27543666  \n",
       "2                          Yogesh.majithia@gmail.com    02735-222481  \n",
       "3                              contactifpl@gmail.com             NaN  \n",
       "4                               smn_kadoli@yahoo.com    0261-2431085  "
      ]
     },
     "execution_count": 10,
     "metadata": {},
     "output_type": "execute_result"
    }
   ],
   "source": [
    "#Changed Headings\n",
    "corrected_df.head()"
   ]
  },
  {
   "cell_type": "code",
   "execution_count": 11,
   "metadata": {},
   "outputs": [],
   "source": [
    "corrected_df_new = corrected_df.iloc[1:]"
   ]
  },
  {
   "cell_type": "code",
   "execution_count": 12,
   "metadata": {},
   "outputs": [
    {
     "data": {
      "text/html": [
       "<div>\n",
       "<style scoped>\n",
       "    .dataframe tbody tr th:only-of-type {\n",
       "        vertical-align: middle;\n",
       "    }\n",
       "\n",
       "    .dataframe tbody tr th {\n",
       "        vertical-align: top;\n",
       "    }\n",
       "\n",
       "    .dataframe thead th {\n",
       "        text-align: right;\n",
       "    }\n",
       "</style>\n",
       "<table border=\"1\" class=\"dataframe\">\n",
       "  <thead>\n",
       "    <tr style=\"text-align: right;\">\n",
       "      <th></th>\n",
       "      <th>S No</th>\n",
       "      <th>Name of the company</th>\n",
       "      <th>Regional Office</th>\n",
       "      <th>Address 1</th>\n",
       "      <th>Address 2</th>\n",
       "      <th>Address 3</th>\n",
       "      <th>City</th>\n",
       "      <th>State</th>\n",
       "      <th>Pincode</th>\n",
       "      <th>Email</th>\n",
       "      <th>Fax</th>\n",
       "    </tr>\n",
       "  </thead>\n",
       "  <tbody>\n",
       "    <tr>\n",
       "      <td>1</td>\n",
       "      <td>1</td>\n",
       "      <td>ARMAN FINANCIAL SERVICES LIMITED</td>\n",
       "      <td>Ahmedabad</td>\n",
       "      <td>501-504,Sakar III</td>\n",
       "      <td>Opp . Old High  Court</td>\n",
       "      <td>Off. Ashram  Road</td>\n",
       "      <td>Ahmedabad</td>\n",
       "      <td>Gujarat</td>\n",
       "      <td>380014</td>\n",
       "      <td>finance@armanindia.com    website:www.armanind...</td>\n",
       "      <td>079  -27543666</td>\n",
       "    </tr>\n",
       "    <tr>\n",
       "      <td>2</td>\n",
       "      <td>2</td>\n",
       "      <td>Chinmay Finlease Ltd</td>\n",
       "      <td>Ahmedabad</td>\n",
       "      <td>Azad Chowk</td>\n",
       "      <td>NaN</td>\n",
       "      <td>Dist: Banaskantha(Ng)</td>\n",
       "      <td>Bhabhar</td>\n",
       "      <td>Gujarat</td>\n",
       "      <td>385320</td>\n",
       "      <td>Yogesh.majithia@gmail.com</td>\n",
       "      <td>02735-222481</td>\n",
       "    </tr>\n",
       "    <tr>\n",
       "      <td>3</td>\n",
       "      <td>3</td>\n",
       "      <td>Ishan Finlease Limited</td>\n",
       "      <td>Ahmedabad</td>\n",
       "      <td>608-609, Pratiksha Complex</td>\n",
       "      <td>Mahalaxmi Panch Rasta,</td>\n",
       "      <td>Near Paldi Cross Road, Paldi</td>\n",
       "      <td>Ahmedabad</td>\n",
       "      <td>Gujarat</td>\n",
       "      <td>380007</td>\n",
       "      <td>contactifpl@gmail.com</td>\n",
       "      <td>NaN</td>\n",
       "    </tr>\n",
       "    <tr>\n",
       "      <td>4</td>\n",
       "      <td>4</td>\n",
       "      <td>JAYLAKSHMI CREDIT COMPANY LIMITED</td>\n",
       "      <td>Ahmedabad</td>\n",
       "      <td>3/209, Ghanchi Sheri</td>\n",
       "      <td>Navapura</td>\n",
       "      <td>NaN</td>\n",
       "      <td>Surat</td>\n",
       "      <td>Gujarat</td>\n",
       "      <td>395003</td>\n",
       "      <td>smn_kadoli@yahoo.com</td>\n",
       "      <td>0261-2431085</td>\n",
       "    </tr>\n",
       "    <tr>\n",
       "      <td>5</td>\n",
       "      <td>5</td>\n",
       "      <td>K.Z. Leasing &amp; Finance Ltd</td>\n",
       "      <td>Ahmedabad</td>\n",
       "      <td>1st Floor,Deshna Chambers</td>\n",
       "      <td>B/H Kadva  Patidar Vadi</td>\n",
       "      <td>Usmanpura , Ashram Road</td>\n",
       "      <td>Ahmedabad</td>\n",
       "      <td>Gujarat</td>\n",
       "      <td>380014</td>\n",
       "      <td>kzleasing@yahoo.com</td>\n",
       "      <td>NaN</td>\n",
       "    </tr>\n",
       "  </tbody>\n",
       "</table>\n",
       "</div>"
      ],
      "text/plain": [
       "  S No                Name of the company Regional Office  \\\n",
       "1    1   ARMAN FINANCIAL SERVICES LIMITED       Ahmedabad   \n",
       "2    2               Chinmay Finlease Ltd       Ahmedabad   \n",
       "3    3             Ishan Finlease Limited       Ahmedabad   \n",
       "4    4  JAYLAKSHMI CREDIT COMPANY LIMITED       Ahmedabad   \n",
       "5    5         K.Z. Leasing & Finance Ltd       Ahmedabad   \n",
       "\n",
       "                    Address 1                Address 2  \\\n",
       "1           501-504,Sakar III    Opp . Old High  Court   \n",
       "2                  Azad Chowk                      NaN   \n",
       "3  608-609, Pratiksha Complex   Mahalaxmi Panch Rasta,   \n",
       "4        3/209, Ghanchi Sheri                 Navapura   \n",
       "5   1st Floor,Deshna Chambers  B/H Kadva  Patidar Vadi   \n",
       "\n",
       "                      Address 3       City    State Pincode  \\\n",
       "1             Off. Ashram  Road  Ahmedabad  Gujarat  380014   \n",
       "2         Dist: Banaskantha(Ng)    Bhabhar  Gujarat  385320   \n",
       "3  Near Paldi Cross Road, Paldi  Ahmedabad  Gujarat  380007   \n",
       "4                           NaN      Surat  Gujarat  395003   \n",
       "5       Usmanpura , Ashram Road  Ahmedabad  Gujarat  380014   \n",
       "\n",
       "                                               Email             Fax  \n",
       "1  finance@armanindia.com    website:www.armanind...  079  -27543666  \n",
       "2                          Yogesh.majithia@gmail.com    02735-222481  \n",
       "3                              contactifpl@gmail.com             NaN  \n",
       "4                               smn_kadoli@yahoo.com    0261-2431085  \n",
       "5                                kzleasing@yahoo.com             NaN  "
      ]
     },
     "execution_count": 12,
     "metadata": {},
     "output_type": "execute_result"
    }
   ],
   "source": [
    "corrected_df_new.head()"
   ]
  },
  {
   "cell_type": "code",
   "execution_count": 13,
   "metadata": {},
   "outputs": [
    {
     "data": {
      "text/plain": [
       "1              ahmedabad\n",
       "2                bhabhar\n",
       "3              ahmedabad\n",
       "4                  surat\n",
       "5              ahmedabad\n",
       "             ...        \n",
       "77                 patna\n",
       "78    thiruvananthapuram\n",
       "79                kerala\n",
       "80                 kochi\n",
       "81                 kochi\n",
       "Name: City, Length: 81, dtype: object"
      ]
     },
     "execution_count": 13,
     "metadata": {},
     "output_type": "execute_result"
    }
   ],
   "source": [
    "city=corrected_df_new['City']\n",
    "city=city.str.lower()\n",
    "city"
   ]
  },
  {
   "cell_type": "code",
   "execution_count": 14,
   "metadata": {},
   "outputs": [
    {
     "data": {
      "text/plain": [
       "1              ahmedabad\n",
       "2                bhabhar\n",
       "3              ahmedabad\n",
       "4                  surat\n",
       "5              ahmedabad\n",
       "             ...        \n",
       "77                 patna\n",
       "78    thiruvananthapuram\n",
       "79                kerala\n",
       "80                 kochi\n",
       "81                 kochi\n",
       "Name: City, Length: 81, dtype: object"
      ]
     },
     "execution_count": 14,
     "metadata": {},
     "output_type": "execute_result"
    }
   ],
   "source": [
    "city.replace(to_replace=['rohtak, haryana','new delhi/delhi','delhi new: new delhi','delhi'],\n",
    "                         value=['rohtak','new delhi','new delhi','new delhi'],\n",
    "                         inplace=True)\n",
    "city"
   ]
  },
  {
   "cell_type": "code",
   "execution_count": 15,
   "metadata": {},
   "outputs": [],
   "source": [
    "frequency_of_city = city.value_counts()"
   ]
  },
  {
   "cell_type": "code",
   "execution_count": 16,
   "metadata": {},
   "outputs": [
    {
     "data": {
      "text/plain": [
       "array(['ahmedabad', 'bhabhar', 'surat', 'rajkot', 'bangalore', 'dharwad',\n",
       "       'jalandhar', 'ludhiana', 'khanna', 'amritsar', 'moga',\n",
       "       'chandigarh', 'chennai', 'salem', 'karur', 'coimbatore',\n",
       "       'tirunelveli', 'namakkal', 'jammu', 'badaun', 'pilibhit', 'bijnor',\n",
       "       'meerut', 'allahabad', 'bareilly', 'kolkata', 'pune', 'nagpur',\n",
       "       'mumbai', 'navapur', 'rohtak', 'new delhi', 'gurgaon',\n",
       "       'samastipur', 'patna', 'thiruvananthapuram', 'kerala', 'kochi'],\n",
       "      dtype=object)"
      ]
     },
     "execution_count": 16,
     "metadata": {},
     "output_type": "execute_result"
    }
   ],
   "source": [
    "unique_city = city.unique()\n",
    "unique_city"
   ]
  },
  {
   "cell_type": "code",
   "execution_count": 17,
   "metadata": {},
   "outputs": [],
   "source": [
    "import matplotlib.pyplot as plt"
   ]
  },
  {
   "cell_type": "code",
   "execution_count": 18,
   "metadata": {},
   "outputs": [
    {
     "data": {
      "text/plain": [
       "([<matplotlib.axis.XTick at 0xa863588>,\n",
       "  <matplotlib.axis.XTick at 0xa855c48>,\n",
       "  <matplotlib.axis.XTick at 0xa887a88>,\n",
       "  <matplotlib.axis.XTick at 0xa910888>,\n",
       "  <matplotlib.axis.XTick at 0xa915088>,\n",
       "  <matplotlib.axis.XTick at 0xa915748>,\n",
       "  <matplotlib.axis.XTick at 0xa91a1c8>,\n",
       "  <matplotlib.axis.XTick at 0xa910a08>,\n",
       "  <matplotlib.axis.XTick at 0xa91ae88>,\n",
       "  <matplotlib.axis.XTick at 0xa91f448>,\n",
       "  <matplotlib.axis.XTick at 0xa91fcc8>,\n",
       "  <matplotlib.axis.XTick at 0xa923648>,\n",
       "  <matplotlib.axis.XTick at 0xa926108>,\n",
       "  <matplotlib.axis.XTick at 0xa926b08>,\n",
       "  <matplotlib.axis.XTick at 0xa92b688>,\n",
       "  <matplotlib.axis.XTick at 0xa92f348>,\n",
       "  <matplotlib.axis.XTick at 0xa92fd48>,\n",
       "  <matplotlib.axis.XTick at 0xa92b648>,\n",
       "  <matplotlib.axis.XTick at 0xa933048>,\n",
       "  <matplotlib.axis.XTick at 0xa933e48>,\n",
       "  <matplotlib.axis.XTick at 0xa935948>,\n",
       "  <matplotlib.axis.XTick at 0xa939348>,\n",
       "  <matplotlib.axis.XTick at 0xa939d48>,\n",
       "  <matplotlib.axis.XTick at 0xa93c8c8>,\n",
       "  <matplotlib.axis.XTick at 0xa941448>,\n",
       "  <matplotlib.axis.XTick at 0xa944108>,\n",
       "  <matplotlib.axis.XTick at 0xa9394c8>,\n",
       "  <matplotlib.axis.XTick at 0xa933e88>,\n",
       "  <matplotlib.axis.XTick at 0xa949188>,\n",
       "  <matplotlib.axis.XTick at 0xa949d08>,\n",
       "  <matplotlib.axis.XTick at 0xa94b708>,\n",
       "  <matplotlib.axis.XTick at 0xa94e1c8>,\n",
       "  <matplotlib.axis.XTick at 0xa94ebc8>,\n",
       "  <matplotlib.axis.XTick at 0xa952748>,\n",
       "  <matplotlib.axis.XTick at 0xa956408>,\n",
       "  <matplotlib.axis.XTick at 0xa959048>,\n",
       "  <matplotlib.axis.XTick at 0xa956048>,\n",
       "  <matplotlib.axis.XTick at 0xa9595c8>],\n",
       " <a list of 38 Text xticklabel objects>)"
      ]
     },
     "execution_count": 18,
     "metadata": {},
     "output_type": "execute_result"
    },
    {
     "data": {
      "image/png": "[encoded data removed]",
      "text/plain": [
       "<Figure size 432x288 with 1 Axes>"
      ]
     },
     "metadata": {
      "needs_background": "light"
     },
     "output_type": "display_data"
    }
   ],
   "source": [
    "plt.bar(x=unique_city,height=frequency_of_city)\n",
    "\n",
    "plt.xticks(ticks=np.arange(0,len(unique_city)),\n",
    "          labels=unique_city,rotation=90)"
   ]
  },
  {
   "cell_type": "code",
   "execution_count": 19,
   "metadata": {},
   "outputs": [],
   "source": [
    "state = corrected_df_new['State']\n",
    "state = state.str.lower()\n",
    "state = state.dropna()"
   ]
  },
  {
   "cell_type": "code",
   "execution_count": 20,
   "metadata": {},
   "outputs": [],
   "source": [
    "frequency_of_state = state.value_counts()\n",
    "unique_state = state.unique()"
   ]
  },
  {
   "cell_type": "code",
   "execution_count": 21,
   "metadata": {},
   "outputs": [
    {
     "data": {
      "text/plain": [
       "([<matplotlib.axis.XTick at 0xa9f1b48>,\n",
       "  <matplotlib.axis.XTick at 0xa9f11c8>,\n",
       "  <matplotlib.axis.XTick at 0xa9fed88>,\n",
       "  <matplotlib.axis.XTick at 0xaa3acc8>,\n",
       "  <matplotlib.axis.XTick at 0xaa3d1c8>,\n",
       "  <matplotlib.axis.XTick at 0xaa3d9c8>,\n",
       "  <matplotlib.axis.XTick at 0xaa3c188>,\n",
       "  <matplotlib.axis.XTick at 0xaa3c748>,\n",
       "  <matplotlib.axis.XTick at 0xaa47048>,\n",
       "  <matplotlib.axis.XTick at 0xaa477c8>,\n",
       "  <matplotlib.axis.XTick at 0xaa4d148>,\n",
       "  <matplotlib.axis.XTick at 0xaa3c5c8>,\n",
       "  <matplotlib.axis.XTick at 0xaa3d108>,\n",
       "  <matplotlib.axis.XTick at 0xaa4e048>,\n",
       "  <matplotlib.axis.XTick at 0xaa4eb08>,\n",
       "  <matplotlib.axis.XTick at 0xaa55448>],\n",
       " <a list of 16 Text xticklabel objects>)"
      ]
     },
     "execution_count": 21,
     "metadata": {},
     "output_type": "execute_result"
    },
    {
     "data": {
      "image/png": "[encoded data removed]",
      "text/plain": [
       "<Figure size 432x288 with 1 Axes>"
      ]
     },
     "metadata": {
      "needs_background": "light"
     },
     "output_type": "display_data"
    }
   ],
   "source": [
    "plt.bar(x=unique_state,height=frequency_of_state)\n",
    "\n",
    "plt.xticks(ticks=np.arange(0,len(unique_state)),\n",
    "          labels=unique_state,rotation=90)"
   ]
  },
  {
   "cell_type": "code",
   "execution_count": 129,
   "metadata": {},
   "outputs": [],
   "source": [
    "Email_list=corrected_df_new['Email'].dropna()"
   ]
  },
  {
   "cell_type": "code",
   "execution_count": 130,
   "metadata": {},
   "outputs": [
    {
     "data": {
      "text/plain": [
       "1     finance@armanindia.com    website:www.armanind...\n",
       "2                             yogesh.majithia@gmail.com\n",
       "3                                 contactifpl@gmail.com\n",
       "4                                  smn_kadoli@yahoo.com\n",
       "5                                   kzleasing@yahoo.com\n",
       "                            ...                        \n",
       "77                                      opel96@sify.com\n",
       "78                               kpifc@asianetindia.com\n",
       "79                                  mcsl@muthootcap.com\n",
       "80                                mvfl@muthootgroup.com\n",
       "81                                  sgfltd.ho@gmail.com\n",
       "Name: Email, Length: 71, dtype: object"
      ]
     },
     "execution_count": 130,
     "metadata": {},
     "output_type": "execute_result"
    }
   ],
   "source": [
    "Email_list = Email_list.str.lower()\n",
    "Email_list"
   ]
  },
  {
   "cell_type": "code",
   "execution_count": 131,
   "metadata": {},
   "outputs": [],
   "source": [
    "def which_domain(email):\n",
    "        \n",
    "    if \"@gmail.com\" in email:\n",
    "            \n",
    "        return \"gmail\"\n",
    "        \n",
    "    elif \"@yahoo.com\" in email:\n",
    "            \n",
    "        return \"yahoo\"\n",
    "        \n",
    "    elif \"@yahoo.co.in\" in email:\n",
    "            \n",
    "        return \"yahoo india\"\n",
    "        \n",
    "    elif \"@sify.com\" in email:\n",
    "            \n",
    "        return \"sify\"\n",
    "        \n",
    "    elif \"@aol.com\" in email:\n",
    "            \n",
    "        return \"aol\"\n",
    "        \n",
    "    else:\n",
    "            \n",
    "        return \"personal\""
   ]
  },
  {
   "cell_type": "code",
   "execution_count": 132,
   "metadata": {},
   "outputs": [],
   "source": [
    "email_domain_count = dict(zip([\"gmail\",\"yahoo\",\"yahoo india\",\"sify\",\"aol\",\"personal\"],\n",
    "                                   [0,0,0,0,0,0]))"
   ]
  },
  {
   "cell_type": "code",
   "execution_count": 133,
   "metadata": {},
   "outputs": [
    {
     "data": {
      "text/plain": [
       "{'gmail': 0, 'yahoo': 0, 'yahoo india': 0, 'sify': 0, 'aol': 0, 'personal': 0}"
      ]
     },
     "execution_count": 133,
     "metadata": {},
     "output_type": "execute_result"
    }
   ],
   "source": [
    "email_domain_count"
   ]
  },
  {
   "cell_type": "code",
   "execution_count": 134,
   "metadata": {},
   "outputs": [],
   "source": [
    "Email_list = Email_list.str.split(\"/\")"
   ]
  },
  {
   "cell_type": "code",
   "execution_count": 135,
   "metadata": {},
   "outputs": [],
   "source": [
    "Email_list=Email_list.apply(lambda x: x[0].split(\";\"))"
   ]
  },
  {
   "cell_type": "code",
   "execution_count": 136,
   "metadata": {},
   "outputs": [],
   "source": [
    "Email_list=Email_list.apply(lambda x: x[0].split(\",\"))"
   ]
  },
  {
   "cell_type": "code",
   "execution_count": 137,
   "metadata": {},
   "outputs": [],
   "source": [
    "Email_list= Email_list.apply(lambda x: x[0].split(\"   \"))"
   ]
  },
  {
   "cell_type": "code",
   "execution_count": 138,
   "metadata": {},
   "outputs": [
    {
     "data": {
      "text/plain": [
       "1     [finance@armanindia.com,  website:www.armanind...\n",
       "2                           [yogesh.majithia@gmail.com]\n",
       "3                               [contactifpl@gmail.com]\n",
       "4                                [smn_kadoli@yahoo.com]\n",
       "5                                 [kzleasing@yahoo.com]\n",
       "                            ...                        \n",
       "77                                    [opel96@sify.com]\n",
       "78                             [kpifc@asianetindia.com]\n",
       "79                                [mcsl@muthootcap.com]\n",
       "80                              [mvfl@muthootgroup.com]\n",
       "81                                [sgfltd.ho@gmail.com]\n",
       "Name: Email, Length: 71, dtype: object"
      ]
     },
     "execution_count": 138,
     "metadata": {},
     "output_type": "execute_result"
    }
   ],
   "source": [
    "Email_list"
   ]
  },
  {
   "cell_type": "code",
   "execution_count": 139,
   "metadata": {},
   "outputs": [],
   "source": [
    "for email_per_row in Email_list:    \n",
    "    \n",
    "    if len(email_per_row) > 1:\n",
    "        \n",
    "        email_domain_type1 = which_domain(email_per_row[0])\n",
    "        \n",
    "        email_domain_type2 = which_domain(email_per_row[1])\n",
    "        \n",
    "        email_domain_count[email_domain_type1] += 1\n",
    "        \n",
    "        email_domain_count[email_domain_type2] += 1\n",
    "        \n",
    "    else:\n",
    "        \n",
    "        email_domain_type = which_domain(email_per_row[0])\n",
    "        \n",
    "        email_domain_count[email_domain_type] += 1"
   ]
  },
  {
   "cell_type": "code",
   "execution_count": 140,
   "metadata": {},
   "outputs": [
    {
     "data": {
      "text/plain": [
       "{'gmail': 21,\n",
       " 'yahoo': 8,\n",
       " 'yahoo india': 2,\n",
       " 'sify': 1,\n",
       " 'aol': 0,\n",
       " 'personal': 40}"
      ]
     },
     "execution_count": 140,
     "metadata": {},
     "output_type": "execute_result"
    }
   ],
   "source": [
    "email_domain_count"
   ]
  },
  {
   "cell_type": "code",
   "execution_count": 152,
   "metadata": {},
   "outputs": [],
   "source": [
    "types_keys = list(email_domain_count.keys())"
   ]
  },
  {
   "cell_type": "code",
   "execution_count": 153,
   "metadata": {},
   "outputs": [
    {
     "data": {
      "text/plain": [
       "['gmail', 'yahoo', 'yahoo india', 'sify', 'aol', 'personal']"
      ]
     },
     "execution_count": 153,
     "metadata": {},
     "output_type": "execute_result"
    }
   ],
   "source": [
    "types_keys"
   ]
  },
  {
   "cell_type": "code",
   "execution_count": 149,
   "metadata": {},
   "outputs": [],
   "source": [
    "values_frequencies = list(email_domain_count.values())"
   ]
  },
  {
   "cell_type": "code",
   "execution_count": 150,
   "metadata": {},
   "outputs": [
    {
     "data": {
      "text/plain": [
       "[21, 8, 2, 1, 0, 40]"
      ]
     },
     "execution_count": 150,
     "metadata": {},
     "output_type": "execute_result"
    }
   ],
   "source": [
    "values_frequencies"
   ]
  },
  {
   "cell_type": "code",
   "execution_count": 163,
   "metadata": {},
   "outputs": [
    {
     "data": {
      "text/plain": [
       "<BarContainer object of 6 artists>"
      ]
     },
     "execution_count": 163,
     "metadata": {},
     "output_type": "execute_result"
    },
    {
     "data": {
      "image/png": "[encoded data removed]",
      "text/plain": [
       "<Figure size 432x288 with 1 Axes>"
      ]
     },
     "metadata": {
      "needs_background": "light"
     },
     "output_type": "display_data"
    }
   ],
   "source": [
    "plt.xticks(np.arange(0,len(values_frequencies)),types_keys,\n",
    "          rotation=70)\n",
    "\n",
    "plt.bar(x=types_keys,height=values_frequencies)"
   ]
  },
  {
   "cell_type": "code",
   "execution_count": null,
   "metadata": {},
   "outputs": [],
   "source": []
  }
 ],
 "metadata": {
  "kernelspec": {
   "display_name": "Python 3",
   "language": "python",
   "name": "python3"
  },
  "language_info": {
   "codemirror_mode": {
    "name": "ipython",
    "version": 3
   },
   "file_extension": ".py",
   "mimetype": "text/x-python",
   "name": "python",
   "nbconvert_exporter": "python",
   "pygments_lexer": "ipython3",
   "version": "3.7.4"
  }
 },
 "nbformat": 4,
 "nbformat_minor": 2
}
